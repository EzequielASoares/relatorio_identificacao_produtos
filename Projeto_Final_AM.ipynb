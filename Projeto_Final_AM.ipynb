{
  "nbformat": 4,
  "nbformat_minor": 0,
  "metadata": {
    "colab": {
      "provenance": []
    },
    "kernelspec": {
      "name": "python3",
      "display_name": "Python 3"
    },
    "language_info": {
      "name": "python"
    }
  },
  "cells": [
    {
      "cell_type": "code",
      "execution_count": null,
      "metadata": {
        "id": "vtNi9ZqQEI69"
      },
      "outputs": [],
      "source": [
        "# Instalar bibliotecas no Colab\n",
        "!pip install tensorflow opencv-python beautifulsoup4 requests selenium googletrans==4.0.0-rc1 --quiet --quiet\n",
        "\n",
        "import warnings\n",
        "warnings.filterwarnings(\"ignore\")  # Silenciar warnings\n",
        "\n",
        "# Importar bibliotecas\n",
        "import tensorflow as tf\n",
        "from tensorflow.keras.applications import MobileNetV2\n",
        "from tensorflow.keras.applications.mobilenet_v2 import preprocess_input, decode_predictions\n",
        "import numpy as np\n",
        "import cv2\n",
        "import requests\n",
        "from bs4 import BeautifulSoup\n",
        "from io import BytesIO\n",
        "from PIL import Image\n",
        "from googletrans import Translator\n",
        "\n",
        "# Inicializar tradutor Google Translate\n",
        "translator = Translator()"
      ]
    },
    {
      "cell_type": "code",
      "source": [
        "# Função para carregar e preparar imagem a partir de arquivo ou URL\n",
        "def preprocess_image(image_path_or_url):\n",
        "    if image_path_or_url.startswith('http'):  # Verifica se é uma URL\n",
        "        response = requests.get(image_path_or_url)\n",
        "        image = Image.open(BytesIO(response.content))\n",
        "        image = image.convert('RGB')\n",
        "        image = np.array(image)\n",
        "    else:  # Caso contrário, trata como um caminho local\n",
        "        image = cv2.imread(image_path_or_url)\n",
        "        image = cv2.cvtColor(image, cv2.COLOR_BGR2RGB)\n",
        "\n",
        "    image = cv2.resize(image, (224, 224))\n",
        "    image = preprocess_input(image)\n",
        "    return np.expand_dims(image, axis=0)"
      ],
      "metadata": {
        "id": "zgVOSiOlERf6"
      },
      "execution_count": null,
      "outputs": []
    },
    {
      "cell_type": "code",
      "source": [
        "# Carregar modelo MobileNetV2\n",
        "model = MobileNetV2(weights='imagenet')\n",
        "# Identificar objeto na imagem\n",
        "def identify_image(image_path_or_url):\n",
        "    # Processa a imagem\n",
        "    image = preprocess_image(image_path_or_url)\n",
        "\n",
        "    # Faz a previsão usando o modelo\n",
        "    predictions = model.predict(image)\n",
        "\n",
        "    # Decodifica as previsões\n",
        "    decoded = decode_predictions(predictions, top=3)[0]\n",
        "\n",
        "    # Exibe as previsões\n",
        "    for i, (imagenet_id, label, score) in enumerate(decoded):\n",
        "        print(f\"{i+1}: {label} ({score * 100:.2f}%)\")\n",
        "\n",
        "    # Tradução com Google Translate\n",
        "    try:\n",
        "        if decoded and decoded[0][1]:\n",
        "            original_label = decoded[0][1].replace('_', ' ')  # Substitui _ por espaço\n",
        "            translated_label = translator.translate(original_label, src='en', dest='pt').text\n",
        "        else:\n",
        "            translated_label = \"Rótulo não disponível para tradução\"\n",
        "    except Exception as e:\n",
        "        print(f\"Erro na tradução, usando o nome original em inglês: {e}\")\n",
        "        translated_label = decoded[0][1].replace('_', ' ')  # Usa o nome original com _ substituído por espaço\n",
        "\n",
        "    return translated_label  # Retorna o label traduzido ou o nome original"
      ],
      "metadata": {
        "id": "mTRaqd0EEjzw"
      },
      "execution_count": null,
      "outputs": []
    },
    {
      "cell_type": "code",
      "source": [
        "# Função para buscar o menor preço\n",
        "def search_product_online(product_name):\n",
        "    search_url = f\"https://www.google.com/search?q={product_name.replace(' ', '+')}+menor+preço&cr=countryBR\"\n",
        "    headers = {\n",
        "        'User-Agent': 'Mozilla/5.0 (Windows NT 10.0; Win64; x64) AppleWebKit/537.36 (KHTML, like Gecko) Chrome/85.0.4183.121 Safari/537.36'\n",
        "    }\n",
        "    response = requests.get(search_url, headers=headers)\n",
        "    soup = BeautifulSoup(response.text, 'html.parser')\n",
        "\n",
        "    # Coletar informações de produtos\n",
        "    products = []\n",
        "    for g in soup.find_all('div', class_='tF2Cxc'):\n",
        "        title = g.find('h3').text if g.find('h3') else 'N/A'\n",
        "        link = g.find('a')['href'] if g.find('a') else 'N/A'\n",
        "        snippet = g.find('span', class_='aCOpRe').text if g.find('span', class_='aCOpRe') else 'N/A'\n",
        "        products.append((title, link, snippet))\n",
        "\n",
        "    # Exibir resultados\n",
        "    for i, (title, link, snippet) in enumerate(products[:5]):\n",
        "        print(f\"\\nResultado {i+1}:\")\n",
        "        print(f\"Nome: {title}\")\n",
        "        print(f\"Link: {link}\")\n",
        "        print(f\"Descrição: {snippet}\")"
      ],
      "metadata": {
        "id": "DICCqfmOEmZ4"
      },
      "execution_count": null,
      "outputs": []
    },
    {
      "cell_type": "code",
      "source": [
        "# Fluxo principal\n",
        "if __name__ == \"__main__\":\n",
        "    # Substituir pelo caminho ou URL da sua imagem\n",
        "    image_path_or_url = \"https://a-static.mlcdn.com.br/800x560/computador-completo-intel-i5-4-geracao-8gb-hd-1tb-facil-computadores/olistplus/opmk9w8zulz00ecr/6d80bf9e93aee8114455aa6b0564c6a0.jpeg\"  # Ou URL como \"https://example.com/imagem.jpg\"\n",
        "    product_name = identify_image(image_path_or_url)\n",
        "    print(f\"Produto identificado (traduzido): {product_name}\")\n",
        "    print(\"\\nBuscando pelo menor preço...\")\n",
        "    search_product_online(product_name)"
      ],
      "metadata": {
        "id": "qJ041po8Eo3g"
      },
      "execution_count": null,
      "outputs": []
    }
  ]
}